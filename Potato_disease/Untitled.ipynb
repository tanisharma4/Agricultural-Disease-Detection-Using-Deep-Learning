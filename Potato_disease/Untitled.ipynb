{
 "cells": [
  {
   "cell_type": "markdown",
   "id": "52cfddec-c250-41d5-b3ea-1da5c0b546df",
   "metadata": {},
   "source": [
    "# Importing Libraries\n",
    ">TensorFlow and related libraries are imported to build and train the model."
   ]
  },
  {
   "cell_type": "code",
   "execution_count": null,
   "id": "32a7ebd5-fc41-442b-b7c1-28936167f7dd",
   "metadata": {},
   "outputs": [],
   "source": []
  }
 ],
 "metadata": {
  "kernelspec": {
   "display_name": "Python 3 (ipykernel)",
   "language": "python",
   "name": "python3"
  },
  "language_info": {
   "codemirror_mode": {
    "name": "ipython",
    "version": 3
   },
   "file_extension": ".py",
   "mimetype": "text/x-python",
   "name": "python",
   "nbconvert_exporter": "python",
   "pygments_lexer": "ipython3",
   "version": "3.12.2"
  }
 },
 "nbformat": 4,
 "nbformat_minor": 5
}
